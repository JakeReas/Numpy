{
 "cells": [
  {
   "cell_type": "code",
   "execution_count": 1,
   "id": "fbcba4b7",
   "metadata": {},
   "outputs": [],
   "source": [
    "import numpy as np\n",
    "import matplotlib "
   ]
  },
  {
   "cell_type": "code",
   "execution_count": 2,
   "id": "10769019",
   "metadata": {},
   "outputs": [
    {
     "data": {
      "text/plain": [
       "'NumPy’s main object is the homogeneous multidimensional array. It is a table of elements (usually numbers), all of the same type, indexed by a tuple of non-negative integers. In NumPy dimensions are called axes.'"
      ]
     },
     "execution_count": 2,
     "metadata": {},
     "output_type": "execute_result"
    }
   ],
   "source": [
    "#Numpy needs homogeneous array\n",
    "\"\"\"NumPy’s main object is the homogeneous multidimensional array. It is a table of elements (usually numbers), all of the same type, indexed by a tuple of non-negative integers. In NumPy dimensions are called axes.\"\"\"\n"
   ]
  },
  {
   "cell_type": "markdown",
   "id": "b4d21e55",
   "metadata": {},
   "source": [
    "ndarray.ndim\n",
    "the number of axes (dimensions) of the array.\n",
    "\n",
    "ndarray.shape\n",
    "the dimensions of the array. This is a tuple of integers indicating the size of the array in each dimension. For a matrix with n rows and m columns, shape will be (n,m). The length of the shape tuple is therefore the number of axes, ndim.\n",
    "\n",
    "ndarray.size\n",
    "the total number of elements of the array. This is equal to the product of the elements of shape.\n",
    "\n",
    "ndarray.dtype\n",
    "an object describing the type of the elements in the array. One can create or specify dtype’s using standard Python types. Additionally NumPy provides types of its own. numpy.int32, numpy.int16, and numpy.float64 are some examples.\n",
    "\n",
    "ndarray.itemsize\n",
    "the size in bytes of each element of the array. For example, an array of elements of type float64 has itemsize 8 (=64/8), while one of type complex32 has itemsize 4 (=32/8). It is equivalent to ndarray.dtype.itemsize.\n",
    "\n",
    "ndarray.data\n",
    "the buffer containing the actual elements of the array. Normally, we won’t need to use this attribute because we will access the elements in an array using indexing facilities."
   ]
  },
  {
   "cell_type": "code",
   "execution_count": 3,
   "id": "a2a3fb5b",
   "metadata": {},
   "outputs": [],
   "source": [
    "#to create a numpy array\n",
    "a = np.array([1,3,4,5])\n",
    "b = [3,5,6,3]\n",
    "bb = np.array(b)"
   ]
  },
  {
   "cell_type": "code",
   "execution_count": 4,
   "id": "f8ace1c2",
   "metadata": {},
   "outputs": [],
   "source": [
    "#To create numpy arrays of zeroes\n",
    "c = np.zeros(4)\n",
    "#to create arrays filled with ones\n",
    "d = np.ones(5)"
   ]
  },
  {
   "cell_type": "code",
   "execution_count": 5,
   "id": "9b59ad8a",
   "metadata": {},
   "outputs": [
    {
     "name": "stdout",
     "output_type": "stream",
     "text": [
      "[2.12199579e-314 2.22524532e-307 5.21733322e-321 6.95208261e-310\n",
      " 4.89541034e-307]\n"
     ]
    }
   ],
   "source": [
    "#The function empty creates an array whose initial content is random and depends on the state of the memory.\n",
    "#The reason to use empty over zeros (or something similar) is speed - just make sure to fill every element afterwards!\n",
    "e = np.empty(5)\n",
    "print(e)"
   ]
  },
  {
   "cell_type": "code",
   "execution_count": 6,
   "id": "cf34f6f8",
   "metadata": {},
   "outputs": [],
   "source": [
    "#an array with a range of elements\n",
    "f = np.arange(5)\n",
    "?np.arange"
   ]
  },
  {
   "cell_type": "code",
   "execution_count": 7,
   "id": "b8f87ab1",
   "metadata": {},
   "outputs": [
    {
     "data": {
      "text/plain": [
       "array([ 0. ,  2.5,  5. ,  7.5, 10. ])"
      ]
     },
     "execution_count": 7,
     "metadata": {},
     "output_type": "execute_result"
    }
   ],
   "source": [
    "#to create an array with values that are spaced linearly in a specific interval\n",
    "np.linspace(0, 10, num=5)\n"
   ]
  },
  {
   "cell_type": "code",
   "execution_count": 8,
   "id": "59bf0b0a",
   "metadata": {},
   "outputs": [
    {
     "data": {
      "text/plain": [
       "array([1, 1], dtype=int64)"
      ]
     },
     "execution_count": 8,
     "metadata": {},
     "output_type": "execute_result"
    }
   ],
   "source": [
    "#while the default type is floating point (np.float64)\n",
    "#we can explicitly specify  which data type we want using the dtype keyword\n",
    "x = np.ones(2, dtype=np.int64)\n",
    "x"
   ]
  },
  {
   "cell_type": "code",
   "execution_count": 9,
   "id": "81ccaa80",
   "metadata": {},
   "outputs": [
    {
     "data": {
      "text/plain": [
       "array([ 3,  3,  4,  5,  5,  6, 13, 13, 23])"
      ]
     },
     "execution_count": 9,
     "metadata": {},
     "output_type": "execute_result"
    }
   ],
   "source": [
    "#TO ADD, REMOVE, and SORT elements\n",
    "arr = np.sort([2,5,24,6,3,26,7,2])\n",
    "\n",
    "#OR \n",
    "arr = [3,5,13,13,5,6,3,23,4]\n",
    "np.sort(arr)"
   ]
  },
  {
   "cell_type": "code",
   "execution_count": null,
   "id": "65a6daad",
   "metadata": {},
   "outputs": [],
   "source": []
  }
 ],
 "metadata": {
  "kernelspec": {
   "display_name": "Python 3",
   "language": "python",
   "name": "python3"
  },
  "language_info": {
   "codemirror_mode": {
    "name": "ipython",
    "version": 3
   },
   "file_extension": ".py",
   "mimetype": "text/x-python",
   "name": "python",
   "nbconvert_exporter": "python",
   "pygments_lexer": "ipython3",
   "version": "3.8.8"
  }
 },
 "nbformat": 4,
 "nbformat_minor": 5
}
